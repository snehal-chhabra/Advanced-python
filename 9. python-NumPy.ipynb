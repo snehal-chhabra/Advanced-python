{
 "cells": [
  {
   "cell_type": "markdown",
   "id": "ad89a454",
   "metadata": {},
   "source": [
    "## Data Analysis: \n",
    "### NumPy"
   ]
  },
  {
   "cell_type": "markdown",
   "id": "edbc038d",
   "metadata": {},
   "source": [
    "Data analysis involves a  broad set of activities to clean, process and transform a data collection to learn from it. Python is commonly used as a programming language to perform data analysis because of many tools such as jupyter notebook, pandas and bokeh, are written in python and can be quickly applied rather than coding your own data analysis libraries from scratch.\n",
    "it includes:\n",
    "import data sets\n",
    "clean and prepare data for analysis\n",
    "manipulate pandas DataFrame\n",
    "summarize data\n",
    "building data piplines"
   ]
  },
  {
   "cell_type": "markdown",
   "id": "d618cc55",
   "metadata": {},
   "source": [
    "Numpy:\n",
    "stands for Numerical python, is a library consisting of multidimensional array objects and a collection of routines for processing those arrays.\n",
    "Using NumPy, mathematical and logical operations on arrays can be performed.\n",
    "Using NumPy, a developer can perform the following operations-\n",
    "mathematical and logical operatioms on arrays.\n",
    "Fourier transforms and routines for shape manipulation\n",
    "Operations related to linear algebra.NumPy has in-built functions for linear algebra and random number generation."
   ]
  },
  {
   "cell_type": "markdown",
   "id": "99c9d7ad",
   "metadata": {},
   "source": [
    "Array creation using NumPy\n",
    "The most important object defined in NumPy is an N-dimensional array type called ndarray. It describes the collection of items of the same type. Items in the collection can be accessed using a zero-based index.\n",
    "Numpy is a library installed in python made by someone else, not an in-built feature of python. There is another in-built library called array which has some basic modules for operations on arrays but does not work very well with matrices.\n",
    "Also, NumPy is mostly used in Image Processing Task and Machine Learning since we work with a lot of variables there,but not with data analysis.\n",
    "\n",
    "NumPy's main object is the homogenous multidimensional array. \n",
    "It is a table of elements(usually numbers), all of the same type, indexed by a tuple of positive integers.\n",
    "In NumPy dimensions are called axes. The number of axes is called rank.\n",
    "NumPy's array class is called ndarray. It is also known by the alias array.\n",
    "[[1,2,3],\n",
    " [4,2,5]]\n",
    " here, rank=2 as it is a 2-dimensional array or has 2 axes.\n",
    " first dimension(axis) length=2, second dimension length=3\n",
    " overall shape can be expressed as (2,3)"
   ]
  },
  {
   "cell_type": "code",
   "execution_count": 2,
   "id": "bb5c4b0f",
   "metadata": {},
   "outputs": [],
   "source": [
    "import numpy as np   \n",
    "#anaconda comes pre-installed with data analysis packages, \n",
    "#other places you have to do pip install"
   ]
  },
  {
   "cell_type": "code",
   "execution_count": 3,
   "id": "74792a4e",
   "metadata": {},
   "outputs": [
    {
     "data": {
      "text/plain": [
       "array([1, 2, 3, 4])"
      ]
     },
     "execution_count": 3,
     "metadata": {},
     "output_type": "execute_result"
    }
   ],
   "source": [
    "a=np.array([1,2,3,4])\n",
    "a"
   ]
  },
  {
   "cell_type": "code",
   "execution_count": 4,
   "id": "39fb719b",
   "metadata": {},
   "outputs": [
    {
     "name": "stdout",
     "output_type": "stream",
     "text": [
      "[1 2 3 4]\n"
     ]
    }
   ],
   "source": [
    "print(a)"
   ]
  },
  {
   "cell_type": "code",
   "execution_count": 5,
   "id": "f369870b",
   "metadata": {},
   "outputs": [
    {
     "data": {
      "text/plain": [
       "numpy.ndarray"
      ]
     },
     "execution_count": 5,
     "metadata": {},
     "output_type": "execute_result"
    }
   ],
   "source": [
    "type(a)"
   ]
  },
  {
   "cell_type": "code",
   "execution_count": 6,
   "id": "9cc91647",
   "metadata": {},
   "outputs": [
    {
     "data": {
      "text/plain": [
       "1"
      ]
     },
     "execution_count": 6,
     "metadata": {},
     "output_type": "execute_result"
    }
   ],
   "source": [
    "a.ndim"
   ]
  },
  {
   "cell_type": "code",
   "execution_count": 7,
   "id": "20bdbda7",
   "metadata": {},
   "outputs": [
    {
     "data": {
      "text/plain": [
       "(4,)"
      ]
     },
     "execution_count": 7,
     "metadata": {},
     "output_type": "execute_result"
    }
   ],
   "source": [
    "a.shape"
   ]
  },
  {
   "cell_type": "code",
   "execution_count": 8,
   "id": "dad32fb6",
   "metadata": {},
   "outputs": [
    {
     "data": {
      "text/plain": [
       "4"
      ]
     },
     "execution_count": 8,
     "metadata": {},
     "output_type": "execute_result"
    }
   ],
   "source": [
    "a.size   \n",
    "#size function basically gives total number of elements ie, product of \n",
    "#axis lengths"
   ]
  },
  {
   "cell_type": "code",
   "execution_count": 9,
   "id": "fa3b7098",
   "metadata": {},
   "outputs": [
    {
     "data": {
      "text/plain": [
       "dtype('int32')"
      ]
     },
     "execution_count": 9,
     "metadata": {},
     "output_type": "execute_result"
    }
   ],
   "source": [
    "a.dtype  \n",
    "#gives the type of the elements of array.int32 means 32 bit integer.\n",
    "#ie, the amount of space utilized by each and every element of the array"
   ]
  },
  {
   "cell_type": "code",
   "execution_count": 10,
   "id": "a6017285",
   "metadata": {},
   "outputs": [
    {
     "data": {
      "text/plain": [
       "array([[1. , 2. , 3. , 4. ],\n",
       "       [5. , 6. , 7.6, 8. ]])"
      ]
     },
     "execution_count": 10,
     "metadata": {},
     "output_type": "execute_result"
    }
   ],
   "source": [
    "b=np.array([[1,2,3,4],\n",
    "           [5,6,7.6,8]])\n",
    "b\n",
    "#when you enter diff data type elements array automatically converts them \n",
    "#into a single data type"
   ]
  },
  {
   "cell_type": "code",
   "execution_count": 12,
   "id": "4f1653d9",
   "metadata": {},
   "outputs": [
    {
     "data": {
      "text/plain": [
       "array([['1', '2', '3', '4'],\n",
       "       ['5', '6', '7.6', '8']], dtype='<U32')"
      ]
     },
     "execution_count": 12,
     "metadata": {},
     "output_type": "execute_result"
    }
   ],
   "source": [
    "c=np.array([[1,2,3,'4'],\n",
    "           [5,6,7.6,8]])\n",
    "c\n",
    "#string precedent over float over integer. this is because string is most \n",
    "#compatible for all entries"
   ]
  },
  {
   "cell_type": "code",
   "execution_count": 30,
   "id": "4d73be18",
   "metadata": {},
   "outputs": [
    {
     "data": {
      "text/plain": [
       "array([[1, 2, 3, 4],\n",
       "       [5, 6, 7, 8]])"
      ]
     },
     "execution_count": 30,
     "metadata": {},
     "output_type": "execute_result"
    }
   ],
   "source": [
    "d=np.array([[1,2,3,4],\n",
    "           [5,6,7,8]])\n",
    "d"
   ]
  },
  {
   "cell_type": "code",
   "execution_count": 15,
   "id": "1f24f0b9",
   "metadata": {},
   "outputs": [
    {
     "data": {
      "text/plain": [
       "(2, 4)"
      ]
     },
     "execution_count": 15,
     "metadata": {},
     "output_type": "execute_result"
    }
   ],
   "source": [
    "d.shape"
   ]
  },
  {
   "cell_type": "code",
   "execution_count": 16,
   "id": "7833e9d6",
   "metadata": {},
   "outputs": [
    {
     "data": {
      "text/plain": [
       "8"
      ]
     },
     "execution_count": 16,
     "metadata": {},
     "output_type": "execute_result"
    }
   ],
   "source": [
    "d.size"
   ]
  },
  {
   "cell_type": "code",
   "execution_count": 17,
   "id": "14b0a9a9",
   "metadata": {},
   "outputs": [
    {
     "data": {
      "text/plain": [
       "2"
      ]
     },
     "execution_count": 17,
     "metadata": {},
     "output_type": "execute_result"
    }
   ],
   "source": [
    "d.ndim"
   ]
  },
  {
   "cell_type": "code",
   "execution_count": 20,
   "id": "809e7d5c",
   "metadata": {},
   "outputs": [
    {
     "data": {
      "text/plain": [
       "dtype('int32')"
      ]
     },
     "execution_count": 20,
     "metadata": {},
     "output_type": "execute_result"
    }
   ],
   "source": [
    "d.dtype"
   ]
  },
  {
   "cell_type": "code",
   "execution_count": 21,
   "id": "0c03e08e",
   "metadata": {},
   "outputs": [
    {
     "data": {
      "text/plain": [
       "numpy.ndarray"
      ]
     },
     "execution_count": 21,
     "metadata": {},
     "output_type": "execute_result"
    }
   ],
   "source": [
    "type(d)"
   ]
  },
  {
   "cell_type": "markdown",
   "id": "db08f9de",
   "metadata": {},
   "source": [
    "Array creation:\n",
    "for eg, you can create an array from a regular python list or tuple using the array function. The type of the resulting array is deduced from the type of elements in the sequences.\n",
    "often, the elements of an array are originally unknown, but its size is known. Hence, NumPy offers several functions to create arrays with initial placeholder content. These minimize the necessity of growing arrays, an expensive operation.\n",
    "For eg, np.zeeros, np.ones, nnp.full, np.empty, etc"
   ]
  },
  {
   "cell_type": "code",
   "execution_count": 22,
   "id": "5ad36dd9",
   "metadata": {},
   "outputs": [
    {
     "data": {
      "text/plain": [
       "array([[1., 2., 3., 4.],\n",
       "       [5., 6., 7., 8.]])"
      ]
     },
     "execution_count": 22,
     "metadata": {},
     "output_type": "execute_result"
    }
   ],
   "source": [
    "arr=np.array([[1,2,3,4],\n",
    "           [5,6,7,8]], dtype= float)\n",
    "arr"
   ]
  },
  {
   "cell_type": "code",
   "execution_count": 29,
   "id": "5a4ba143",
   "metadata": {},
   "outputs": [
    {
     "data": {
      "text/plain": [
       "(2, 4)"
      ]
     },
     "execution_count": 29,
     "metadata": {},
     "output_type": "execute_result"
    }
   ],
   "source": [
    "arr.shape"
   ]
  },
  {
   "cell_type": "code",
   "execution_count": 23,
   "id": "b80e2dd3",
   "metadata": {},
   "outputs": [
    {
     "data": {
      "text/plain": [
       "dtype('float64')"
      ]
     },
     "execution_count": 23,
     "metadata": {},
     "output_type": "execute_result"
    }
   ],
   "source": [
    "arr.dtype"
   ]
  },
  {
   "cell_type": "code",
   "execution_count": 31,
   "id": "7ae87220",
   "metadata": {},
   "outputs": [
    {
     "data": {
      "text/plain": [
       "array([[[1, 2, 3, 4],\n",
       "        [5, 6, 7, 8],\n",
       "        [2, 4, 6, 8]]])"
      ]
     },
     "execution_count": 31,
     "metadata": {},
     "output_type": "execute_result"
    }
   ],
   "source": [
    "a3d=np.array([[[1,2,3,4],\n",
    "           [5,6,7,8],\n",
    "              [2,4,6,8]]])\n",
    "a3d"
   ]
  },
  {
   "cell_type": "code",
   "execution_count": 34,
   "id": "f0afcfcb",
   "metadata": {},
   "outputs": [
    {
     "data": {
      "text/plain": [
       "array([[[ 1.,  2.,  3.,  4.],\n",
       "        [ 5.,  6.,  7.,  8.]],\n",
       "\n",
       "       [[10., 20., 30., 40.],\n",
       "        [20., 40., 60., 80.]]])"
      ]
     },
     "execution_count": 34,
     "metadata": {},
     "output_type": "execute_result"
    }
   ],
   "source": [
    "a3d=np.array([[[1,2,3,4],\n",
    "               [5,6,7,8]],\n",
    "              \n",
    "              [[10,20,30,40],\n",
    "               [20,40,60,80]]], dtype = float)\n",
    "a3d"
   ]
  },
  {
   "cell_type": "code",
   "execution_count": 27,
   "id": "95acfc8d",
   "metadata": {},
   "outputs": [
    {
     "data": {
      "text/plain": [
       "3"
      ]
     },
     "execution_count": 27,
     "metadata": {},
     "output_type": "execute_result"
    }
   ],
   "source": [
    "a3d.ndim"
   ]
  },
  {
   "cell_type": "code",
   "execution_count": 28,
   "id": "939e7bfe",
   "metadata": {},
   "outputs": [
    {
     "data": {
      "text/plain": [
       "(2, 2, 4)"
      ]
     },
     "execution_count": 28,
     "metadata": {},
     "output_type": "execute_result"
    }
   ],
   "source": [
    "a3d.shape"
   ]
  },
  {
   "cell_type": "code",
   "execution_count": 15,
   "id": "5dfe5eb8",
   "metadata": {
    "scrolled": true
   },
   "outputs": [
    {
     "data": {
      "text/plain": [
       "array([[[  1.,   2.,   3.,   4.],\n",
       "        [  5.,   6.,   7.,   8.]],\n",
       "\n",
       "       [[100., 200., 300., 400.],\n",
       "        [200., 400., 600., 800.]],\n",
       "\n",
       "       [[ 10.,  20.,  30.,  40.],\n",
       "        [ 20.,  40.,  60.,  80.]]])"
      ]
     },
     "execution_count": 15,
     "metadata": {},
     "output_type": "execute_result"
    }
   ],
   "source": [
    "ad=np.array([[[1,2,3,4],\n",
    "               [5,6,7,8]],\n",
    "              [[100,200,300,400],\n",
    "               [200,400,600,800]],\n",
    "              [[10,20,30,40],\n",
    "               [20,40,60,80]]], dtype = float)\n",
    "ad"
   ]
  },
  {
   "cell_type": "code",
   "execution_count": 37,
   "id": "28799d2d",
   "metadata": {},
   "outputs": [
    {
     "data": {
      "text/plain": [
       "(3, 2, 4)"
      ]
     },
     "execution_count": 37,
     "metadata": {},
     "output_type": "execute_result"
    }
   ],
   "source": [
    "ad.shape"
   ]
  },
  {
   "cell_type": "code",
   "execution_count": 39,
   "id": "ab94e632",
   "metadata": {},
   "outputs": [
    {
     "data": {
      "text/plain": [
       "3"
      ]
     },
     "execution_count": 39,
     "metadata": {},
     "output_type": "execute_result"
    }
   ],
   "source": [
    "ad.ndim"
   ]
  },
  {
   "cell_type": "code",
   "execution_count": 41,
   "id": "0e1aaa3a",
   "metadata": {},
   "outputs": [
    {
     "data": {
      "text/plain": [
       "array([[0., 0., 0., 0.],\n",
       "       [0., 0., 0., 0.],\n",
       "       [0., 0., 0., 0.]])"
      ]
     },
     "execution_count": 41,
     "metadata": {},
     "output_type": "execute_result"
    }
   ],
   "source": [
    "#arrays can also be made from tuples \n",
    "np.zeros((3,4))\n",
    "#by default: float format"
   ]
  },
  {
   "cell_type": "code",
   "execution_count": 42,
   "id": "8757a412",
   "metadata": {},
   "outputs": [
    {
     "data": {
      "text/plain": [
       "array([['', '', '', ''],\n",
       "       ['', '', '', ''],\n",
       "       ['', '', '', '']], dtype='<U1')"
      ]
     },
     "execution_count": 42,
     "metadata": {},
     "output_type": "execute_result"
    }
   ],
   "source": [
    "np.zeros((3,4),dtype = str)"
   ]
  },
  {
   "cell_type": "code",
   "execution_count": 44,
   "id": "cbd6caf2",
   "metadata": {},
   "outputs": [
    {
     "data": {
      "text/plain": [
       "array([[1, 1, 1],\n",
       "       [1, 1, 1],\n",
       "       [1, 1, 1],\n",
       "       [1, 1, 1]])"
      ]
     },
     "execution_count": 44,
     "metadata": {},
     "output_type": "execute_result"
    }
   ],
   "source": [
    "np.ones((4,3),dtype= int)"
   ]
  },
  {
   "cell_type": "code",
   "execution_count": 45,
   "id": "2c440b59",
   "metadata": {},
   "outputs": [
    {
     "data": {
      "text/plain": [
       "array([[[1],\n",
       "        [1],\n",
       "        [1]],\n",
       "\n",
       "       [[1],\n",
       "        [1],\n",
       "        [1]],\n",
       "\n",
       "       [[1],\n",
       "        [1],\n",
       "        [1]],\n",
       "\n",
       "       [[1],\n",
       "        [1],\n",
       "        [1]]])"
      ]
     },
     "execution_count": 45,
     "metadata": {},
     "output_type": "execute_result"
    }
   ],
   "source": [
    "np.ones((4,3,1),dtype= int)    #(rows, layers, columns)"
   ]
  },
  {
   "cell_type": "code",
   "execution_count": 46,
   "id": "ab29a1fe",
   "metadata": {},
   "outputs": [
    {
     "data": {
      "text/plain": [
       "array([[[1., 1., 1.],\n",
       "        [1., 1., 1.],\n",
       "        [1., 1., 1.]]])"
      ]
     },
     "execution_count": 46,
     "metadata": {},
     "output_type": "execute_result"
    }
   ],
   "source": [
    "np.ones((1,3,3))"
   ]
  },
  {
   "cell_type": "markdown",
   "id": "53e74bed",
   "metadata": {},
   "source": [
    "Digital image processing is the use of a digital computer to process digital images through an algorithm.\n",
    "types of images:\n",
    "black & white, grayscale, colored\n",
    "In digitl imaging, a pixel(or picture element) is the smallest item of information in an image. Pixels are arranged in a 2-dimensional grid, represented using squares. pixels are smallest unit of digital display.\n",
    "upto millions of pixels make up an image or a video on a device's screen.\n",
    "for eg: if pixels are made of binary numbers where 1 is for black and 0 is for white then a simple black and white picture can be created using binary. "
   ]
  },
  {
   "cell_type": "code",
   "execution_count": 3,
   "id": "69d9d589",
   "metadata": {},
   "outputs": [
    {
     "data": {
      "text/plain": [
       "array([[7.5, 7.5, 7.5, 7.5],\n",
       "       [7.5, 7.5, 7.5, 7.5],\n",
       "       [7.5, 7.5, 7.5, 7.5]])"
      ]
     },
     "execution_count": 3,
     "metadata": {},
     "output_type": "execute_result"
    }
   ],
   "source": [
    "np.full((3,4),7.5)"
   ]
  },
  {
   "cell_type": "code",
   "execution_count": 4,
   "id": "02a64507",
   "metadata": {},
   "outputs": [
    {
     "data": {
      "text/plain": [
       "array([[7, 7, 7, 7],\n",
       "       [7, 7, 7, 7],\n",
       "       [7, 7, 7, 7]])"
      ]
     },
     "execution_count": 4,
     "metadata": {},
     "output_type": "execute_result"
    }
   ],
   "source": [
    "np.full((3,4),7.5, dtype=int)  \n",
    "#does not round off, but removes the decimal part"
   ]
  },
  {
   "cell_type": "code",
   "execution_count": 19,
   "id": "26cdb6a0",
   "metadata": {},
   "outputs": [
    {
     "data": {
      "text/plain": [
       "[3, 4, 5, 6, 7, 8, 9]"
      ]
     },
     "execution_count": 19,
     "metadata": {},
     "output_type": "execute_result"
    }
   ],
   "source": [
    "list(range(3,10))"
   ]
  },
  {
   "cell_type": "code",
   "execution_count": 6,
   "id": "13f36135",
   "metadata": {},
   "outputs": [
    {
     "data": {
      "text/plain": [
       "[3, 5, 7, 9]"
      ]
     },
     "execution_count": 6,
     "metadata": {},
     "output_type": "execute_result"
    }
   ],
   "source": [
    "list(range(3,10,2))"
   ]
  },
  {
   "cell_type": "code",
   "execution_count": 20,
   "id": "a6af70c7",
   "metadata": {},
   "outputs": [
    {
     "data": {
      "text/plain": [
       "array([3, 4, 5, 6, 7, 8, 9])"
      ]
     },
     "execution_count": 20,
     "metadata": {},
     "output_type": "execute_result"
    }
   ],
   "source": [
    "np.arange(3,10) \n",
    "#arange is inclusive of start number and exclusive of end number \n",
    "#like range function"
   ]
  },
  {
   "cell_type": "code",
   "execution_count": 8,
   "id": "3f295813",
   "metadata": {},
   "outputs": [
    {
     "data": {
      "text/plain": [
       "array([3, 5, 7, 9])"
      ]
     },
     "execution_count": 8,
     "metadata": {},
     "output_type": "execute_result"
    }
   ],
   "source": [
    "np.arange(3,10,2) \n",
    "#you are able to control stepsize but not able to control no. of elemeents"
   ]
  },
  {
   "cell_type": "code",
   "execution_count": 9,
   "id": "badeb198",
   "metadata": {},
   "outputs": [
    {
     "data": {
      "text/plain": [
       "array([10,  8,  6,  4])"
      ]
     },
     "execution_count": 9,
     "metadata": {},
     "output_type": "execute_result"
    }
   ],
   "source": [
    "np.arange(10,3,-2)"
   ]
  },
  {
   "cell_type": "code",
   "execution_count": 10,
   "id": "3b78a402",
   "metadata": {},
   "outputs": [
    {
     "data": {
      "text/plain": [
       "array([3, 6, 9])"
      ]
     },
     "execution_count": 10,
     "metadata": {},
     "output_type": "execute_result"
    }
   ],
   "source": [
    "np.arange(3,10,3)  "
   ]
  },
  {
   "cell_type": "code",
   "execution_count": 11,
   "id": "e5b5f873",
   "metadata": {},
   "outputs": [
    {
     "data": {
      "text/plain": [
       "array([ 3. ,  6.5, 10. ])"
      ]
     },
     "execution_count": 11,
     "metadata": {},
     "output_type": "execute_result"
    }
   ],
   "source": [
    "np.linspace(3,10,3)  \n",
    "#linspace divides elements equally spaced as in equal difference b/w each \n",
    "#element, the previous one and the one after.\n",
    "#here we are able to control no of elements but step size is decided based \n",
    "#on how many numbers we need b/w the boundaries."
   ]
  },
  {
   "cell_type": "code",
   "execution_count": 12,
   "id": "c129f493",
   "metadata": {},
   "outputs": [
    {
     "data": {
      "text/plain": [
       "array([ 2.        ,  4.66666667,  7.33333333, 10.        ])"
      ]
     },
     "execution_count": 12,
     "metadata": {},
     "output_type": "execute_result"
    }
   ],
   "source": [
    "np.linspace(2,10,4)\n",
    "#note that the space is due to float values. equal spaces since this is \n",
    "#in matrix form."
   ]
  },
  {
   "cell_type": "code",
   "execution_count": 13,
   "id": "ebc742e9",
   "metadata": {},
   "outputs": [
    {
     "data": {
      "text/plain": [
       "array([ 2.,  4.,  6.,  8., 10.])"
      ]
     },
     "execution_count": 13,
     "metadata": {},
     "output_type": "execute_result"
    }
   ],
   "source": [
    "np.linspace(2,10,5)\n",
    "#linspace is inclusive of both start and end numbers."
   ]
  },
  {
   "cell_type": "code",
   "execution_count": 14,
   "id": "e161e96d",
   "metadata": {},
   "outputs": [
    {
     "data": {
      "text/plain": [
       "[2.0, 4.0, 6.0, 8.0, 10.0]"
      ]
     },
     "execution_count": 14,
     "metadata": {},
     "output_type": "execute_result"
    }
   ],
   "source": [
    "list(np.linspace(2,10,5))"
   ]
  },
  {
   "cell_type": "code",
   "execution_count": 16,
   "id": "6cd415a9",
   "metadata": {},
   "outputs": [
    {
     "data": {
      "text/plain": [
       "array([[[  1.,   2.,   3.,   4.],\n",
       "        [  5.,   6.,   7.,   8.]],\n",
       "\n",
       "       [[100., 200., 300., 400.],\n",
       "        [200., 400., 600., 800.]],\n",
       "\n",
       "       [[ 10.,  20.,  30.,  40.],\n",
       "        [ 20.,  40.,  60.,  80.]]])"
      ]
     },
     "execution_count": 16,
     "metadata": {},
     "output_type": "execute_result"
    }
   ],
   "source": [
    "ad"
   ]
  },
  {
   "cell_type": "code",
   "execution_count": 17,
   "id": "1e7f17cd",
   "metadata": {},
   "outputs": [
    {
     "data": {
      "text/plain": [
       "(3, 2, 4)"
      ]
     },
     "execution_count": 17,
     "metadata": {},
     "output_type": "execute_result"
    }
   ],
   "source": [
    "ad.shape"
   ]
  },
  {
   "cell_type": "code",
   "execution_count": null,
   "id": "a6238de5",
   "metadata": {},
   "outputs": [],
   "source": [
    "##reshaping Array\n",
    "#Reshaping is allowed when the size of array remains samebefore and \n",
    "#after reshaping (so we don't lose any data or generate any new data)\n",
    "#3*2*4 can be 2*3*4 or 8*3 or 24*1 or 6*4 or 3*2*4*1*1 etc etc"
   ]
  },
  {
   "cell_type": "code",
   "execution_count": 22,
   "id": "ede9b072",
   "metadata": {},
   "outputs": [
    {
     "data": {
      "text/plain": [
       "array([[  1.,   2.,   3.,   4.,   5.,   6.,   7.,   8.],\n",
       "       [100., 200., 300., 400., 200., 400., 600., 800.],\n",
       "       [ 10.,  20.,  30.,  40.,  20.,  40.,  60.,  80.]])"
      ]
     },
     "execution_count": 22,
     "metadata": {},
     "output_type": "execute_result"
    }
   ],
   "source": [
    "ads = ad.reshape((3,8)) \n",
    "ads"
   ]
  },
  {
   "cell_type": "code",
   "execution_count": 25,
   "id": "e7a46186",
   "metadata": {},
   "outputs": [
    {
     "data": {
      "text/plain": [
       "array([[[[  1.,   2.],\n",
       "         [  3.,   4.]],\n",
       "\n",
       "        [[  5.,   6.],\n",
       "         [  7.,   8.]]],\n",
       "\n",
       "\n",
       "       [[[100., 200.],\n",
       "         [300., 400.]],\n",
       "\n",
       "        [[200., 400.],\n",
       "         [600., 800.]]],\n",
       "\n",
       "\n",
       "       [[[ 10.,  20.],\n",
       "         [ 30.,  40.]],\n",
       "\n",
       "        [[ 20.,  40.],\n",
       "         [ 60.,  80.]]]])"
      ]
     },
     "execution_count": 25,
     "metadata": {},
     "output_type": "execute_result"
    }
   ],
   "source": [
    "ads = ad.reshape((3,2,2,2)) \n",
    "ads"
   ]
  },
  {
   "cell_type": "code",
   "execution_count": 26,
   "id": "89f1ca2c",
   "metadata": {},
   "outputs": [
    {
     "data": {
      "text/plain": [
       "array([[  1.],\n",
       "       [  2.],\n",
       "       [  3.],\n",
       "       [  4.],\n",
       "       [  5.],\n",
       "       [  6.],\n",
       "       [  7.],\n",
       "       [  8.],\n",
       "       [100.],\n",
       "       [200.],\n",
       "       [300.],\n",
       "       [400.],\n",
       "       [200.],\n",
       "       [400.],\n",
       "       [600.],\n",
       "       [800.],\n",
       "       [ 10.],\n",
       "       [ 20.],\n",
       "       [ 30.],\n",
       "       [ 40.],\n",
       "       [ 20.],\n",
       "       [ 40.],\n",
       "       [ 60.],\n",
       "       [ 80.]])"
      ]
     },
     "execution_count": 26,
     "metadata": {},
     "output_type": "execute_result"
    }
   ],
   "source": [
    "ads = ad.reshape((24,1)) \n",
    "ads"
   ]
  },
  {
   "cell_type": "code",
   "execution_count": 27,
   "id": "7c75cf32",
   "metadata": {},
   "outputs": [
    {
     "data": {
      "text/plain": [
       "array([  1.,   2.,   3.,   4.,   5.,   6.,   7.,   8., 100., 200., 300.,\n",
       "       400., 200., 400., 600., 800.,  10.,  20.,  30.,  40.,  20.,  40.,\n",
       "        60.,  80.])"
      ]
     },
     "execution_count": 27,
     "metadata": {},
     "output_type": "execute_result"
    }
   ],
   "source": [
    "ads = ad.reshape((24)) \n",
    "ads \n",
    "#this is called flattening of array"
   ]
  },
  {
   "cell_type": "code",
   "execution_count": 28,
   "id": "f93d9833",
   "metadata": {},
   "outputs": [
    {
     "data": {
      "text/plain": [
       "array([  1.,   2.,   3.,   4.,   5.,   6.,   7.,   8., 100., 200., 300.,\n",
       "       400., 200., 400., 600., 800.,  10.,  20.,  30.,  40.,  20.,  40.,\n",
       "        60.,  80.])"
      ]
     },
     "execution_count": 28,
     "metadata": {},
     "output_type": "execute_result"
    }
   ],
   "source": [
    "ad.flatten()  #this function does the same"
   ]
  },
  {
   "cell_type": "markdown",
   "id": "c14fb8eb",
   "metadata": {},
   "source": [
    "### Indexing"
   ]
  },
  {
   "cell_type": "code",
   "execution_count": 183,
   "id": "11d2d7ce",
   "metadata": {},
   "outputs": [
    {
     "data": {
      "text/plain": [
       "array([[[1, 2, 3, 4],\n",
       "        [5, 6, 7, 8],\n",
       "        [2, 4, 6, 8]]])"
      ]
     },
     "execution_count": 183,
     "metadata": {},
     "output_type": "execute_result"
    }
   ],
   "source": [
    "a3d"
   ]
  },
  {
   "cell_type": "code",
   "execution_count": 37,
   "id": "ab6b7d6d",
   "metadata": {},
   "outputs": [
    {
     "data": {
      "text/plain": [
       "array([[ 1,  2, 23,  4],\n",
       "       [ 5,  6, 17,  8],\n",
       "       [12,  4, 60,  0]])"
      ]
     },
     "execution_count": 37,
     "metadata": {},
     "output_type": "execute_result"
    }
   ],
   "source": [
    "ai=np.array([[1,2,23,4],\n",
    "           [5,6,17,8],\n",
    "              [12,4,60,0]])\n",
    "ai"
   ]
  },
  {
   "cell_type": "code",
   "execution_count": 39,
   "id": "7cd37a79",
   "metadata": {},
   "outputs": [
    {
     "data": {
      "text/plain": [
       "2"
      ]
     },
     "execution_count": 39,
     "metadata": {},
     "output_type": "execute_result"
    }
   ],
   "source": [
    "ai.ndim"
   ]
  },
  {
   "cell_type": "code",
   "execution_count": 38,
   "id": "77ddf4bb",
   "metadata": {},
   "outputs": [
    {
     "data": {
      "text/plain": [
       "array([ 1,  2, 23,  4])"
      ]
     },
     "execution_count": 38,
     "metadata": {},
     "output_type": "execute_result"
    }
   ],
   "source": [
    "ai[0]"
   ]
  },
  {
   "cell_type": "code",
   "execution_count": 40,
   "id": "3e56aec7",
   "metadata": {},
   "outputs": [
    {
     "data": {
      "text/plain": [
       "23"
      ]
     },
     "execution_count": 40,
     "metadata": {},
     "output_type": "execute_result"
    }
   ],
   "source": [
    "ai[0][2]"
   ]
  },
  {
   "cell_type": "markdown",
   "id": "2d2e19fe",
   "metadata": {},
   "source": [
    "### Integer array Indexing"
   ]
  },
  {
   "cell_type": "code",
   "execution_count": 43,
   "id": "13097275",
   "metadata": {},
   "outputs": [
    {
     "data": {
      "text/plain": [
       "array([[ 1,  2, 23,  4],\n",
       "       [ 5,  6, 17,  8],\n",
       "       [12,  4, 60,  0]])"
      ]
     },
     "execution_count": 43,
     "metadata": {},
     "output_type": "execute_result"
    }
   ],
   "source": [
    "ai"
   ]
  },
  {
   "cell_type": "code",
   "execution_count": 44,
   "id": "336f0802",
   "metadata": {},
   "outputs": [
    {
     "data": {
      "text/plain": [
       "array([ 2, 17, 12,  0])"
      ]
     },
     "execution_count": 44,
     "metadata": {},
     "output_type": "execute_result"
    }
   ],
   "source": [
    "#suppose we want 2, 17,12,0 from the array above. then, 2- (0,1), 17- (1,2)\n",
    "#12- (2,0), 0- (2,3)\n",
    "ai[[0,1,2,2],[1,2,0,3]]   \n",
    "#here, first list consists of row indexes for each element you want and the \n",
    "#second list consists of column indexes for the same elements\n",
    "#there are 2 lists here because given array is 2 dimensional."
   ]
  },
  {
   "cell_type": "code",
   "execution_count": 45,
   "id": "94b47130",
   "metadata": {},
   "outputs": [
    {
     "data": {
      "text/plain": [
       "array([ 1,  5, 12])"
      ]
     },
     "execution_count": 45,
     "metadata": {},
     "output_type": "execute_result"
    }
   ],
   "source": [
    "ai[[0,1,2],[0]]"
   ]
  },
  {
   "cell_type": "code",
   "execution_count": 52,
   "id": "61b9f741",
   "metadata": {},
   "outputs": [
    {
     "data": {
      "text/plain": [
       "array([17,  6,  8])"
      ]
     },
     "execution_count": 52,
     "metadata": {},
     "output_type": "execute_result"
    }
   ],
   "source": [
    "ai[[1],[2,1,3]]"
   ]
  },
  {
   "cell_type": "markdown",
   "id": "a225586d",
   "metadata": {},
   "source": [
    "### Boolean Array Indexing\n",
    "very useful in data analysis!!!!"
   ]
  },
  {
   "cell_type": "code",
   "execution_count": 53,
   "id": "9739e735",
   "metadata": {},
   "outputs": [
    {
     "data": {
      "text/plain": [
       "array([[ 1,  2, 23,  4],\n",
       "       [ 5,  6, 17,  8],\n",
       "       [12,  4, 60,  0]])"
      ]
     },
     "execution_count": 53,
     "metadata": {},
     "output_type": "execute_result"
    }
   ],
   "source": [
    "ai"
   ]
  },
  {
   "cell_type": "code",
   "execution_count": 55,
   "id": "5e26b557",
   "metadata": {},
   "outputs": [
    {
     "data": {
      "text/plain": [
       "array([1, 2, 4, 5, 4, 0])"
      ]
     },
     "execution_count": 55,
     "metadata": {},
     "output_type": "execute_result"
    }
   ],
   "source": [
    "ai[ai<=5] #checks row-wise"
   ]
  },
  {
   "cell_type": "code",
   "execution_count": 56,
   "id": "b37b7f53",
   "metadata": {},
   "outputs": [
    {
     "data": {
      "text/plain": [
       "[1, 2, 3, 4, 5]"
      ]
     },
     "execution_count": 56,
     "metadata": {},
     "output_type": "execute_result"
    }
   ],
   "source": [
    "#if I have a list l, l+1 does not make sense, will throw error.\n",
    "l=[1,2,3,4,5]\n",
    "l"
   ]
  },
  {
   "cell_type": "code",
   "execution_count": 57,
   "id": "8560d695",
   "metadata": {},
   "outputs": [
    {
     "ename": "TypeError",
     "evalue": "can only concatenate list (not \"int\") to list",
     "output_type": "error",
     "traceback": [
      "\u001b[1;31m---------------------------------------------------------------------------\u001b[0m",
      "\u001b[1;31mTypeError\u001b[0m                                 Traceback (most recent call last)",
      "Cell \u001b[1;32mIn[57], line 1\u001b[0m\n\u001b[1;32m----> 1\u001b[0m l\u001b[38;5;241m+\u001b[39m\u001b[38;5;241m1\u001b[39m\n",
      "\u001b[1;31mTypeError\u001b[0m: can only concatenate list (not \"int\") to list"
     ]
    }
   ],
   "source": [
    "l+1 #can only concatenate list (not \"int\") to list"
   ]
  },
  {
   "cell_type": "code",
   "execution_count": 58,
   "id": "0395da3b",
   "metadata": {},
   "outputs": [
    {
     "data": {
      "text/plain": [
       "array([[ 1,  2, 23,  4],\n",
       "       [ 5,  6, 17,  8],\n",
       "       [12,  4, 60,  0]])"
      ]
     },
     "execution_count": 58,
     "metadata": {},
     "output_type": "execute_result"
    }
   ],
   "source": [
    "#but in case of arrays\n",
    "ai"
   ]
  },
  {
   "cell_type": "code",
   "execution_count": 60,
   "id": "df5b998e",
   "metadata": {},
   "outputs": [
    {
     "data": {
      "text/plain": [
       "array([[ 2,  3, 24,  5],\n",
       "       [ 6,  7, 18,  9],\n",
       "       [13,  5, 61,  1]])"
      ]
     },
     "execution_count": 60,
     "metadata": {},
     "output_type": "execute_result"
    }
   ],
   "source": [
    "ai1= ai+1\n",
    "ai1  #1 is added to each and every element"
   ]
  },
  {
   "cell_type": "code",
   "execution_count": 61,
   "id": "8dd34d59",
   "metadata": {},
   "outputs": [
    {
     "data": {
      "text/plain": [
       "[2, 3, 4, 5, 6]"
      ]
     },
     "execution_count": 61,
     "metadata": {},
     "output_type": "execute_result"
    }
   ],
   "source": [
    "list(np.array(l)+1)   #gives you l+1"
   ]
  },
  {
   "cell_type": "code",
   "execution_count": 62,
   "id": "c981d5e0",
   "metadata": {},
   "outputs": [
    {
     "data": {
      "text/plain": [
       "array([[  2,   4,  46,   8],\n",
       "       [ 10,  12,  34,  16],\n",
       "       [ 24,   8, 120,   0]])"
      ]
     },
     "execution_count": 62,
     "metadata": {},
     "output_type": "execute_result"
    }
   ],
   "source": [
    " ai*2"
   ]
  },
  {
   "cell_type": "code",
   "execution_count": 63,
   "id": "4b5b875b",
   "metadata": {},
   "outputs": [
    {
     "data": {
      "text/plain": [
       "array([[   1,    4,  529,   16],\n",
       "       [  25,   36,  289,   64],\n",
       "       [ 144,   16, 3600,    0]])"
      ]
     },
     "execution_count": 63,
     "metadata": {},
     "output_type": "execute_result"
    }
   ],
   "source": [
    "ai**2"
   ]
  },
  {
   "cell_type": "code",
   "execution_count": 64,
   "id": "480325b1",
   "metadata": {},
   "outputs": [
    {
     "data": {
      "text/plain": [
       "[1, 4, 9, 16, 25]"
      ]
     },
     "execution_count": 64,
     "metadata": {},
     "output_type": "execute_result"
    }
   ],
   "source": [
    "list(np.array(l)**2)"
   ]
  },
  {
   "cell_type": "code",
   "execution_count": 65,
   "id": "ebee7ef9",
   "metadata": {},
   "outputs": [
    {
     "data": {
      "text/plain": [
       "[1, 4, 9, 16, 25]"
      ]
     },
     "execution_count": 65,
     "metadata": {},
     "output_type": "execute_result"
    }
   ],
   "source": [
    "list(map((lambda x: x**2),l))"
   ]
  },
  {
   "cell_type": "code",
   "execution_count": 68,
   "id": "d0f94dc1",
   "metadata": {},
   "outputs": [
    {
     "data": {
      "text/plain": [
       "array([[   1,    4,  529,   16],\n",
       "       [  25,   36,  289,   64],\n",
       "       [ 144,   16, 3600,    0]])"
      ]
     },
     "execution_count": 68,
     "metadata": {},
     "output_type": "execute_result"
    }
   ],
   "source": [
    "np.array(list(map((lambda x: x ** 2),ai)))   #same as ai**2"
   ]
  },
  {
   "cell_type": "markdown",
   "id": "ec4627d7",
   "metadata": {},
   "source": [
    "### Element-wise Arithmetic operation\n",
    "shape of all input arrays must be same."
   ]
  },
  {
   "cell_type": "code",
   "execution_count": 187,
   "id": "3cba4cad",
   "metadata": {},
   "outputs": [
    {
     "data": {
      "text/plain": [
       "array([[ 1,  2,  4, 23],\n",
       "       [ 5,  6,  8, 17],\n",
       "       [ 0,  4, 12, 60]])"
      ]
     },
     "execution_count": 187,
     "metadata": {},
     "output_type": "execute_result"
    }
   ],
   "source": [
    "ai"
   ]
  },
  {
   "cell_type": "code",
   "execution_count": 191,
   "id": "864191c9",
   "metadata": {},
   "outputs": [
    {
     "data": {
      "text/plain": [
       "array([[ 2,  3, 24,  5],\n",
       "       [ 6,  7, 18,  9],\n",
       "       [13,  5, 61,  1]])"
      ]
     },
     "execution_count": 191,
     "metadata": {},
     "output_type": "execute_result"
    }
   ],
   "source": [
    "ai1"
   ]
  },
  {
   "cell_type": "code",
   "execution_count": 71,
   "id": "c5407879",
   "metadata": {},
   "outputs": [
    {
     "data": {
      "text/plain": [
       "array([[  3,   5,  47,   9],\n",
       "       [ 11,  13,  35,  17],\n",
       "       [ 25,   9, 121,   1]])"
      ]
     },
     "execution_count": 71,
     "metadata": {},
     "output_type": "execute_result"
    }
   ],
   "source": [
    "ai+ai1  #shape of arrays should be same"
   ]
  },
  {
   "cell_type": "code",
   "execution_count": 72,
   "id": "2b0d5c08",
   "metadata": {},
   "outputs": [
    {
     "data": {
      "text/plain": [
       "array([[   2,    6,  552,   20],\n",
       "       [  30,   42,  306,   72],\n",
       "       [ 156,   20, 3660,    0]])"
      ]
     },
     "execution_count": 72,
     "metadata": {},
     "output_type": "execute_result"
    }
   ],
   "source": [
    "ai*ai1  #different from matrix multiplication"
   ]
  },
  {
   "cell_type": "code",
   "execution_count": 73,
   "id": "d9158868",
   "metadata": {},
   "outputs": [
    {
     "data": {
      "text/plain": [
       "array([[-1, -1, -1, -1],\n",
       "       [-1, -1, -1, -1],\n",
       "       [-1, -1, -1, -1]])"
      ]
     },
     "execution_count": 73,
     "metadata": {},
     "output_type": "execute_result"
    }
   ],
   "source": [
    "ai-ai1"
   ]
  },
  {
   "cell_type": "code",
   "execution_count": 74,
   "id": "3ece16b8",
   "metadata": {},
   "outputs": [
    {
     "data": {
      "text/plain": [
       "array([[0.5       , 0.66666667, 0.95833333, 0.8       ],\n",
       "       [0.83333333, 0.85714286, 0.94444444, 0.88888889],\n",
       "       [0.92307692, 0.8       , 0.98360656, 0.        ]])"
      ]
     },
     "execution_count": 74,
     "metadata": {},
     "output_type": "execute_result"
    }
   ],
   "source": [
    "ai/ai1"
   ]
  },
  {
   "cell_type": "code",
   "execution_count": 75,
   "id": "70bbbe0f",
   "metadata": {},
   "outputs": [
    {
     "data": {
      "text/plain": [
       "array([[0, 0, 0, 0],\n",
       "       [0, 0, 0, 0],\n",
       "       [0, 0, 0, 0]])"
      ]
     },
     "execution_count": 75,
     "metadata": {},
     "output_type": "execute_result"
    }
   ],
   "source": [
    "ai//ai1"
   ]
  },
  {
   "cell_type": "code",
   "execution_count": 77,
   "id": "466d7da9",
   "metadata": {},
   "outputs": [
    {
     "data": {
      "text/plain": [
       "array([[ 2,  6, 13],\n",
       "       [ 3,  7,  5],\n",
       "       [24, 18, 61],\n",
       "       [ 5,  9,  1]])"
      ]
     },
     "execution_count": 77,
     "metadata": {},
     "output_type": "execute_result"
    }
   ],
   "source": [
    "#matrix multiplication\n",
    "#p*q and r*s matrices --> only if q=r,\n",
    "ai2=ai1.T #taking transpose to make it 4*3\n",
    "ai2"
   ]
  },
  {
   "cell_type": "code",
   "execution_count": 78,
   "id": "1e6bd96b",
   "metadata": {},
   "outputs": [
    {
     "data": {
      "text/plain": [
       "array([[ 1,  2, 23,  4],\n",
       "       [ 5,  6, 17,  8],\n",
       "       [12,  4, 60,  0]])"
      ]
     },
     "execution_count": 78,
     "metadata": {},
     "output_type": "execute_result"
    }
   ],
   "source": [
    "ai   #this is 3*4"
   ]
  },
  {
   "cell_type": "code",
   "execution_count": 79,
   "id": "d8c89484",
   "metadata": {},
   "outputs": [
    {
     "data": {
      "text/plain": [
       "array([[ 580,  470, 1430],\n",
       "       [ 476,  450, 1140],\n",
       "       [1476, 1180, 3836]])"
      ]
     },
     "execution_count": 79,
     "metadata": {},
     "output_type": "execute_result"
    }
   ],
   "source": [
    "ai.dot(ai2)    #Matrix Multiplication or Dot multiplication"
   ]
  },
  {
   "cell_type": "code",
   "execution_count": 80,
   "id": "6c9b09db",
   "metadata": {},
   "outputs": [
    {
     "ename": "ValueError",
     "evalue": "operands could not be broadcast together with shapes (3,4) (4,3) ",
     "output_type": "error",
     "traceback": [
      "\u001b[1;31m---------------------------------------------------------------------------\u001b[0m",
      "\u001b[1;31mValueError\u001b[0m                                Traceback (most recent call last)",
      "Cell \u001b[1;32mIn[80], line 2\u001b[0m\n\u001b[0;32m      1\u001b[0m \u001b[38;5;66;03m#but with this transposed matrix you cannot do element-wise mutiplication\u001b[39;00m\n\u001b[1;32m----> 2\u001b[0m ai\u001b[38;5;241m*\u001b[39mai2\n",
      "\u001b[1;31mValueError\u001b[0m: operands could not be broadcast together with shapes (3,4) (4,3) "
     ]
    }
   ],
   "source": [
    "#but with this transposed matrix you cannot do element-wise mutiplication\n",
    "ai*ai2"
   ]
  },
  {
   "cell_type": "code",
   "execution_count": 81,
   "id": "e983a1e0",
   "metadata": {},
   "outputs": [
    {
     "data": {
      "text/plain": [
       "array([[ 1,  2, 23,  4],\n",
       "       [ 5,  6, 17,  8],\n",
       "       [12,  4, 60,  0]])"
      ]
     },
     "execution_count": 81,
     "metadata": {},
     "output_type": "execute_result"
    }
   ],
   "source": [
    "ai"
   ]
  },
  {
   "cell_type": "code",
   "execution_count": 83,
   "id": "43d68546",
   "metadata": {},
   "outputs": [
    {
     "data": {
      "text/plain": [
       "60"
      ]
     },
     "execution_count": 83,
     "metadata": {},
     "output_type": "execute_result"
    }
   ],
   "source": [
    "ai.max()  #max in the whole array"
   ]
  },
  {
   "cell_type": "code",
   "execution_count": 84,
   "id": "c11507b6",
   "metadata": {},
   "outputs": [
    {
     "data": {
      "text/plain": [
       "array([12,  6, 60,  8])"
      ]
     },
     "execution_count": 84,
     "metadata": {},
     "output_type": "execute_result"
    }
   ],
   "source": [
    "ai.max(axis=0)    #max in each column axis 0"
   ]
  },
  {
   "cell_type": "code",
   "execution_count": 86,
   "id": "96dadd88",
   "metadata": {},
   "outputs": [
    {
     "data": {
      "text/plain": [
       "array([23, 17, 60])"
      ]
     },
     "execution_count": 86,
     "metadata": {},
     "output_type": "execute_result"
    }
   ],
   "source": [
    "ai.max(axis=1)  #max in row axes"
   ]
  },
  {
   "cell_type": "code",
   "execution_count": 87,
   "id": "77b98964",
   "metadata": {},
   "outputs": [
    {
     "data": {
      "text/plain": [
       "0"
      ]
     },
     "execution_count": 87,
     "metadata": {},
     "output_type": "execute_result"
    }
   ],
   "source": [
    "ai.min()"
   ]
  },
  {
   "cell_type": "code",
   "execution_count": 89,
   "id": "42464985",
   "metadata": {},
   "outputs": [
    {
     "data": {
      "text/plain": [
       "array([ 1,  2, 17,  0])"
      ]
     },
     "execution_count": 89,
     "metadata": {},
     "output_type": "execute_result"
    }
   ],
   "source": [
    "ai.min(axis=0)"
   ]
  },
  {
   "cell_type": "code",
   "execution_count": 90,
   "id": "253c402e",
   "metadata": {},
   "outputs": [
    {
     "data": {
      "text/plain": [
       "142"
      ]
     },
     "execution_count": 90,
     "metadata": {},
     "output_type": "execute_result"
    }
   ],
   "source": [
    "ai.sum()"
   ]
  },
  {
   "cell_type": "code",
   "execution_count": 91,
   "id": "8cf0bcc2",
   "metadata": {},
   "outputs": [
    {
     "data": {
      "text/plain": [
       "array([ 18,  12, 100,  12])"
      ]
     },
     "execution_count": 91,
     "metadata": {},
     "output_type": "execute_result"
    }
   ],
   "source": [
    "ai.sum(axis=0)"
   ]
  },
  {
   "cell_type": "code",
   "execution_count": 92,
   "id": "8d331d5a",
   "metadata": {},
   "outputs": [
    {
     "data": {
      "text/plain": [
       "11.833333333333334"
      ]
     },
     "execution_count": 92,
     "metadata": {},
     "output_type": "execute_result"
    }
   ],
   "source": [
    "ai.mean()   #there is no in-built function for mean in lists\n",
    "#can also be performed according to axis"
   ]
  },
  {
   "cell_type": "code",
   "execution_count": 93,
   "id": "7fa8e5d3",
   "metadata": {},
   "outputs": [
    {
     "data": {
      "text/plain": [
       "0"
      ]
     },
     "execution_count": 93,
     "metadata": {},
     "output_type": "execute_result"
    }
   ],
   "source": [
    "ai.prod()\n",
    "#can also be performed according to axis"
   ]
  },
  {
   "cell_type": "code",
   "execution_count": 95,
   "id": "d08c69f1",
   "metadata": {},
   "outputs": [
    {
     "data": {
      "text/plain": [
       "array([[ 1,  2, 23,  4],\n",
       "       [ 5,  6, 17,  8],\n",
       "       [12,  4, 60,  0]])"
      ]
     },
     "execution_count": 95,
     "metadata": {},
     "output_type": "execute_result"
    }
   ],
   "source": [
    "ai"
   ]
  },
  {
   "cell_type": "code",
   "execution_count": 94,
   "id": "13630bbd",
   "metadata": {},
   "outputs": [
    {
     "data": {
      "text/plain": [
       "array([  1,   3,  26,  30,  35,  41,  58,  66,  78,  82, 142, 142])"
      ]
     },
     "execution_count": 94,
     "metadata": {},
     "output_type": "execute_result"
    }
   ],
   "source": [
    "ai.cumsum()   #cummulative sum"
   ]
  },
  {
   "cell_type": "code",
   "execution_count": 96,
   "id": "ea04e26a",
   "metadata": {},
   "outputs": [
    {
     "data": {
      "text/plain": [
       "array([[  1,   2,  23,   4],\n",
       "       [  6,   8,  40,  12],\n",
       "       [ 18,  12, 100,  12]])"
      ]
     },
     "execution_count": 96,
     "metadata": {},
     "output_type": "execute_result"
    }
   ],
   "source": [
    "ai.cumsum(axis=0)"
   ]
  },
  {
   "cell_type": "code",
   "execution_count": 97,
   "id": "da22d3bb",
   "metadata": {},
   "outputs": [
    {
     "data": {
      "text/plain": [
       "array([          1,           2,          46,         184,         920,\n",
       "              5520,       93840,      750720,     9008640,    36034560,\n",
       "       -2132893696,           0])"
      ]
     },
     "execution_count": 97,
     "metadata": {},
     "output_type": "execute_result"
    }
   ],
   "source": [
    "ai.cumprod()"
   ]
  },
  {
   "cell_type": "code",
   "execution_count": 98,
   "id": "04be3003",
   "metadata": {},
   "outputs": [
    {
     "data": {
      "text/plain": [
       "array([[   1,    2,   46,  184],\n",
       "       [   5,   30,  510, 4080],\n",
       "       [  12,   48, 2880,    0]])"
      ]
     },
     "execution_count": 98,
     "metadata": {},
     "output_type": "execute_result"
    }
   ],
   "source": [
    "ai.cumprod(axis=1)"
   ]
  },
  {
   "cell_type": "markdown",
   "id": "340b4d25",
   "metadata": {},
   "source": [
    "### Random Array Generation"
   ]
  },
  {
   "cell_type": "code",
   "execution_count": 99,
   "id": "b5a9cca1",
   "metadata": {},
   "outputs": [],
   "source": [
    "import random"
   ]
  },
  {
   "cell_type": "code",
   "execution_count": 107,
   "id": "0ddc8e25",
   "metadata": {},
   "outputs": [
    {
     "data": {
      "text/plain": [
       "10"
      ]
     },
     "execution_count": 107,
     "metadata": {},
     "output_type": "execute_result"
    }
   ],
   "source": [
    "random.randint(3,10)\n",
    "#BOTH 3 AND 10 AE INCLUSIVE"
   ]
  },
  {
   "cell_type": "code",
   "execution_count": 109,
   "id": "d6d46cdc",
   "metadata": {},
   "outputs": [
    {
     "data": {
      "text/plain": [
       "6"
      ]
     },
     "execution_count": 109,
     "metadata": {},
     "output_type": "execute_result"
    }
   ],
   "source": [
    "np.random.randint(3,10)  #we don't need to import random for this\n",
    "#DIFFERENCE IS THAT IN THIS CASE 3 IS INCLUSIVE BUT 10 IS NOT INCLUSIVE."
   ]
  },
  {
   "cell_type": "code",
   "execution_count": 112,
   "id": "cc1f5a86",
   "metadata": {},
   "outputs": [
    {
     "data": {
      "text/plain": [
       "array([[4, 5, 6],\n",
       "       [7, 3, 3]])"
      ]
     },
     "execution_count": 112,
     "metadata": {},
     "output_type": "execute_result"
    }
   ],
   "source": [
    "#advantage of using this is that we can generate and work with arrays here\n",
    "np.random.randint(3,10, (2,3))\n",
    "#np: package numpy, random: module, randint: method"
   ]
  },
  {
   "cell_type": "code",
   "execution_count": 127,
   "id": "4c43eb7b",
   "metadata": {},
   "outputs": [
    {
     "data": {
      "text/plain": [
       "array([[ 1.21894331,  0.84735203, -1.53610625, -2.70631498],\n",
       "       [ 0.29212303, -0.766356  , -0.72691955,  0.10442109]])"
      ]
     },
     "execution_count": 127,
     "metadata": {},
     "output_type": "execute_result"
    }
   ],
   "source": [
    "np.random.randn(2,4) \n",
    "#mostly ranges bwtween -3 to 3\n",
    "#only need to pass the shape, range is as written above\n",
    "#Return a sample (or samples) from the \"standard normal\" distribution."
   ]
  },
  {
   "cell_type": "code",
   "execution_count": 133,
   "id": "5a25538c",
   "metadata": {},
   "outputs": [
    {
     "data": {
      "text/plain": [
       "array([[0.87458908, 0.7903298 , 0.42088324, 0.6209898 ],\n",
       "       [0.42914153, 0.14873293, 0.28335067, 0.55078649],\n",
       "       [0.99494965, 0.62266464, 0.84840142, 0.40892132]])"
      ]
     },
     "execution_count": 133,
     "metadata": {},
     "output_type": "execute_result"
    }
   ],
   "source": [
    "np.random.rand(3,4)\n",
    "#Random values in a given shape.\n",
    "#Create an array of the given shape and populate it with random samples \n",
    "#from a uniform distribution over ``[0, 1)``.\n",
    "#mostly used in probability or accuracy operations in ML"
   ]
  },
  {
   "cell_type": "code",
   "execution_count": 134,
   "id": "f28cd6d5",
   "metadata": {},
   "outputs": [
    {
     "data": {
      "text/plain": [
       "array([[9.11991477, 5.99062477, 6.64477955],\n",
       "       [5.0861112 , 6.96684835, 9.92094108]])"
      ]
     },
     "execution_count": 134,
     "metadata": {},
     "output_type": "execute_result"
    }
   ],
   "source": [
    "np.random.uniform(3,10, (2,3))\n",
    "#rand function gives uniform distribution between range [0,1) whereas \n",
    "#in uniform function you can give your own range for uniform distribution"
   ]
  },
  {
   "cell_type": "code",
   "execution_count": 135,
   "id": "03e02243",
   "metadata": {},
   "outputs": [
    {
     "data": {
      "text/plain": [
       "[1, 2, 3, 4, 5]"
      ]
     },
     "execution_count": 135,
     "metadata": {},
     "output_type": "execute_result"
    }
   ],
   "source": [
    "l"
   ]
  },
  {
   "cell_type": "code",
   "execution_count": 143,
   "id": "49d7deeb",
   "metadata": {},
   "outputs": [
    {
     "data": {
      "text/plain": [
       "array([[4, 5, 2, 5],\n",
       "       [4, 5, 1, 5],\n",
       "       [4, 1, 3, 1]])"
      ]
     },
     "execution_count": 143,
     "metadata": {},
     "output_type": "execute_result"
    }
   ],
   "source": [
    "np.random.choice(l,(3,4))\n",
    "#Generates a random sample from a given 1-D array\n",
    "#syntax--> choice(a, size=None, replace=True, p=None)"
   ]
  },
  {
   "cell_type": "code",
   "execution_count": 144,
   "id": "ac68850f",
   "metadata": {},
   "outputs": [
    {
     "data": {
      "text/plain": [
       "array([[2, 6, 2, 6],\n",
       "       [9, 3, 0, 5],\n",
       "       [2, 4, 8, 3]])"
      ]
     },
     "execution_count": 144,
     "metadata": {},
     "output_type": "execute_result"
    }
   ],
   "source": [
    "np.random.choice(10,(3,4))"
   ]
  },
  {
   "cell_type": "code",
   "execution_count": 147,
   "id": "37116869",
   "metadata": {},
   "outputs": [],
   "source": [
    "l1=[1,2,3,4,5,6,7,8,9,10,11,12,13,14,15,16,17,18,19,20]"
   ]
  },
  {
   "cell_type": "code",
   "execution_count": 178,
   "id": "2028ebb0",
   "metadata": {},
   "outputs": [
    {
     "data": {
      "text/plain": [
       "array([[[14,  3, 12],\n",
       "        [ 5, 11,  8],\n",
       "        [ 4,  7, 16]],\n",
       "\n",
       "       [[18,  1,  6],\n",
       "        [17, 19, 10],\n",
       "        [13, 20, 15]]])"
      ]
     },
     "execution_count": 178,
     "metadata": {},
     "output_type": "execute_result"
    }
   ],
   "source": [
    "o1=np.random.choice(l1,(2,3,3), False)\n",
    "o1\n",
    "#False means no repeats."
   ]
  },
  {
   "cell_type": "markdown",
   "id": "8aecc403",
   "metadata": {},
   "source": [
    "### Other functions:"
   ]
  },
  {
   "cell_type": "code",
   "execution_count": 150,
   "id": "94446ca5",
   "metadata": {},
   "outputs": [
    {
     "data": {
      "text/plain": [
       "1.2246467991473532e-16"
      ]
     },
     "execution_count": 150,
     "metadata": {},
     "output_type": "execute_result"
    }
   ],
   "source": [
    "np.sin(np.pi)"
   ]
  },
  {
   "cell_type": "code",
   "execution_count": 151,
   "id": "8c9fc5a8",
   "metadata": {},
   "outputs": [
    {
     "data": {
      "text/plain": [
       "0.7071067811865476"
      ]
     },
     "execution_count": 151,
     "metadata": {},
     "output_type": "execute_result"
    }
   ],
   "source": [
    "np.cos((np.pi)/4)"
   ]
  },
  {
   "cell_type": "code",
   "execution_count": 152,
   "id": "52441ab2",
   "metadata": {},
   "outputs": [
    {
     "data": {
      "text/plain": [
       "-1.0"
      ]
     },
     "execution_count": 152,
     "metadata": {},
     "output_type": "execute_result"
    }
   ],
   "source": [
    "np.cos(np.pi)"
   ]
  },
  {
   "cell_type": "code",
   "execution_count": 153,
   "id": "5d68cd84",
   "metadata": {},
   "outputs": [
    {
     "data": {
      "text/plain": [
       "2.718281828459045"
      ]
     },
     "execution_count": 153,
     "metadata": {},
     "output_type": "execute_result"
    }
   ],
   "source": [
    "np.e"
   ]
  },
  {
   "cell_type": "code",
   "execution_count": 154,
   "id": "03c897cb",
   "metadata": {},
   "outputs": [
    {
     "data": {
      "text/plain": [
       "16.0"
      ]
     },
     "execution_count": 154,
     "metadata": {},
     "output_type": "execute_result"
    }
   ],
   "source": [
    "np.sqrt(256)"
   ]
  },
  {
   "cell_type": "code",
   "execution_count": 155,
   "id": "cb6c4387",
   "metadata": {},
   "outputs": [
    {
     "data": {
      "text/plain": [
       "64"
      ]
     },
     "execution_count": 155,
     "metadata": {},
     "output_type": "execute_result"
    }
   ],
   "source": [
    "np.power(2,6)\n",
    "#integer output"
   ]
  },
  {
   "cell_type": "code",
   "execution_count": 157,
   "id": "ce790aef",
   "metadata": {},
   "outputs": [
    {
     "data": {
      "text/plain": [
       "64.0"
      ]
     },
     "execution_count": 157,
     "metadata": {},
     "output_type": "execute_result"
    }
   ],
   "source": [
    "import math\n",
    "math.pow(2,6)\n",
    "#function is pow here and output is in float"
   ]
  },
  {
   "cell_type": "code",
   "execution_count": 160,
   "id": "baa8f997",
   "metadata": {},
   "outputs": [],
   "source": [
    "a=np.array(l)"
   ]
  },
  {
   "cell_type": "code",
   "execution_count": 161,
   "id": "3fd4ec9e",
   "metadata": {},
   "outputs": [
    {
     "data": {
      "text/plain": [
       "array([1, 2, 3, 4, 5])"
      ]
     },
     "execution_count": 161,
     "metadata": {},
     "output_type": "execute_result"
    }
   ],
   "source": [
    "a"
   ]
  },
  {
   "cell_type": "code",
   "execution_count": 162,
   "id": "6a0218f3",
   "metadata": {},
   "outputs": [
    {
     "data": {
      "text/plain": [
       "array([  1,  16,  81, 256, 625], dtype=int32)"
      ]
     },
     "execution_count": 162,
     "metadata": {},
     "output_type": "execute_result"
    }
   ],
   "source": [
    "np.power(a,4)"
   ]
  },
  {
   "cell_type": "code",
   "execution_count": 163,
   "id": "cdda193e",
   "metadata": {},
   "outputs": [
    {
     "data": {
      "text/plain": [
       "array([[       1,       16,   279841,      256],\n",
       "       [     625,     1296,    83521,     4096],\n",
       "       [   20736,      256, 12960000,        0]], dtype=int32)"
      ]
     },
     "execution_count": 163,
     "metadata": {},
     "output_type": "execute_result"
    }
   ],
   "source": [
    "np.power(ai,4)"
   ]
  },
  {
   "cell_type": "code",
   "execution_count": 164,
   "id": "3892ed11",
   "metadata": {},
   "outputs": [
    {
     "data": {
      "text/plain": [
       "array([  1,  16,  81, 256, 625], dtype=int32)"
      ]
     },
     "execution_count": 164,
     "metadata": {},
     "output_type": "execute_result"
    }
   ],
   "source": [
    "np.power(l,4)  #converted list to give output in array"
   ]
  },
  {
   "cell_type": "code",
   "execution_count": 165,
   "id": "40de5362",
   "metadata": {},
   "outputs": [
    {
     "data": {
      "text/plain": [
       "array([ 0.84147098,  0.90929743,  0.14112001, -0.7568025 , -0.95892427])"
      ]
     },
     "execution_count": 165,
     "metadata": {},
     "output_type": "execute_result"
    }
   ],
   "source": [
    "np.sin(a)"
   ]
  },
  {
   "cell_type": "code",
   "execution_count": null,
   "id": "ba6dba94",
   "metadata": {},
   "outputs": [],
   "source": [
    "#np.(press Tab button keyboard) to see all functions "
   ]
  },
  {
   "cell_type": "code",
   "execution_count": 166,
   "id": "209affb6",
   "metadata": {},
   "outputs": [
    {
     "data": {
      "text/plain": [
       "array([[ 1,  2, 23,  4],\n",
       "       [ 5,  6, 17,  8],\n",
       "       [12,  4, 60,  0]])"
      ]
     },
     "execution_count": 166,
     "metadata": {},
     "output_type": "execute_result"
    }
   ],
   "source": [
    "ai"
   ]
  },
  {
   "cell_type": "code",
   "execution_count": 168,
   "id": "ed341a21",
   "metadata": {},
   "outputs": [
    {
     "data": {
      "text/plain": [
       "array([[ 1,  2,  4, 23],\n",
       "       [ 5,  6,  8, 17],\n",
       "       [ 0,  4, 12, 60]])"
      ]
     },
     "execution_count": 168,
     "metadata": {},
     "output_type": "execute_result"
    }
   ],
   "source": [
    "ai.sort() \n",
    "ai\n",
    "#a.sort(axis=-1, kind=None, order=None)\n",
    "#Sort an array in-place.\n",
    "#axis : int, optional\n",
    "#Axis along which to sort. Default is -1, which means sort along the\n",
    "#last axis."
   ]
  },
  {
   "cell_type": "code",
   "execution_count": 169,
   "id": "960c0c8d",
   "metadata": {},
   "outputs": [],
   "source": [
    "ai.sort?"
   ]
  },
  {
   "cell_type": "code",
   "execution_count": 176,
   "id": "336795b0",
   "metadata": {},
   "outputs": [
    {
     "data": {
      "text/plain": [
       "array([[[ 4, 13, 20],\n",
       "        [ 6, 14, 15],\n",
       "        [ 5, 16, 18]],\n",
       "\n",
       "       [[ 8, 10, 19],\n",
       "        [ 7,  9, 17],\n",
       "        [ 2,  3, 12]]])"
      ]
     },
     "execution_count": 176,
     "metadata": {},
     "output_type": "execute_result"
    }
   ],
   "source": [
    "o"
   ]
  },
  {
   "cell_type": "code",
   "execution_count": 175,
   "id": "db346126",
   "metadata": {},
   "outputs": [
    {
     "data": {
      "text/plain": [
       "array([[[ 4, 13, 20],\n",
       "        [ 6, 14, 15],\n",
       "        [ 5, 16, 18]],\n",
       "\n",
       "       [[ 8, 10, 19],\n",
       "        [ 7,  9, 17],\n",
       "        [ 2,  3, 12]]])"
      ]
     },
     "execution_count": 175,
     "metadata": {},
     "output_type": "execute_result"
    }
   ],
   "source": [
    "o.sort()\n",
    "o"
   ]
  },
  {
   "cell_type": "code",
   "execution_count": 179,
   "id": "e3e90147",
   "metadata": {},
   "outputs": [
    {
     "data": {
      "text/plain": [
       "array([[[14,  3, 12],\n",
       "        [ 5, 11,  8],\n",
       "        [ 4,  7, 16]],\n",
       "\n",
       "       [[18,  1,  6],\n",
       "        [17, 19, 10],\n",
       "        [13, 20, 15]]])"
      ]
     },
     "execution_count": 179,
     "metadata": {},
     "output_type": "execute_result"
    }
   ],
   "source": [
    "o1"
   ]
  },
  {
   "cell_type": "code",
   "execution_count": 180,
   "id": "b85b1587",
   "metadata": {},
   "outputs": [],
   "source": [
    "o1.sort(axis=0)"
   ]
  },
  {
   "cell_type": "code",
   "execution_count": 181,
   "id": "ea102ca0",
   "metadata": {},
   "outputs": [
    {
     "data": {
      "text/plain": [
       "array([[[14,  1,  6],\n",
       "        [ 5, 11,  8],\n",
       "        [ 4,  7, 15]],\n",
       "\n",
       "       [[18,  3, 12],\n",
       "        [17, 19, 10],\n",
       "        [13, 20, 16]]])"
      ]
     },
     "execution_count": 181,
     "metadata": {},
     "output_type": "execute_result"
    }
   ],
   "source": [
    "o1"
   ]
  },
  {
   "cell_type": "code",
   "execution_count": 193,
   "id": "cbdb165a",
   "metadata": {},
   "outputs": [
    {
     "data": {
      "text/plain": [
       "array([[ 2,  3, 24,  5],\n",
       "       [ 6,  7, 18,  9],\n",
       "       [13,  5, 61,  1]])"
      ]
     },
     "execution_count": 193,
     "metadata": {},
     "output_type": "execute_result"
    }
   ],
   "source": [
    "ai1"
   ]
  },
  {
   "cell_type": "code",
   "execution_count": 194,
   "id": "087861e9",
   "metadata": {},
   "outputs": [],
   "source": [
    "d1=np.sort(ai1)"
   ]
  },
  {
   "cell_type": "code",
   "execution_count": 195,
   "id": "3aa1cda6",
   "metadata": {},
   "outputs": [
    {
     "data": {
      "text/plain": [
       "array([[ 2,  3,  5, 24],\n",
       "       [ 6,  7,  9, 18],\n",
       "       [ 1,  5, 13, 61]])"
      ]
     },
     "execution_count": 195,
     "metadata": {},
     "output_type": "execute_result"
    }
   ],
   "source": [
    "d1"
   ]
  },
  {
   "cell_type": "code",
   "execution_count": 196,
   "id": "7474c375",
   "metadata": {},
   "outputs": [
    {
     "data": {
      "text/plain": [
       "array([[ 2,  3, 18,  1],\n",
       "       [ 6,  5, 24,  5],\n",
       "       [13,  7, 61,  9]])"
      ]
     },
     "execution_count": 196,
     "metadata": {},
     "output_type": "execute_result"
    }
   ],
   "source": [
    "np.sort(ai1, axis=0)"
   ]
  },
  {
   "cell_type": "code",
   "execution_count": 197,
   "id": "a2661b3d",
   "metadata": {},
   "outputs": [
    {
     "data": {
      "text/plain": [
       "array([ 1,  2,  3,  5,  5,  6,  7,  9, 13, 18, 24, 61])"
      ]
     },
     "execution_count": 197,
     "metadata": {},
     "output_type": "execute_result"
    }
   ],
   "source": [
    "np.sort(ai1, axis=None)  \n",
    "#flattens(converts into 1-D array) the array then sorts"
   ]
  },
  {
   "cell_type": "code",
   "execution_count": null,
   "id": "379b4c09",
   "metadata": {},
   "outputs": [],
   "source": []
  }
 ],
 "metadata": {
  "kernelspec": {
   "display_name": "Python 3 (ipykernel)",
   "language": "python",
   "name": "python3"
  },
  "language_info": {
   "codemirror_mode": {
    "name": "ipython",
    "version": 3
   },
   "file_extension": ".py",
   "mimetype": "text/x-python",
   "name": "python",
   "nbconvert_exporter": "python",
   "pygments_lexer": "ipython3",
   "version": "3.11.5"
  }
 },
 "nbformat": 4,
 "nbformat_minor": 5
}
